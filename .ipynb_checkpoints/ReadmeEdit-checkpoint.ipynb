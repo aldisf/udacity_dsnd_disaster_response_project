{
 "cells": [
  {
   "cell_type": "markdown",
   "metadata": {},
   "source": [
    "# Disaster Response Pipeline Project \n",
    "### (Udacity Data Scientist Nanodegree)\n",
    "\n",
    "### Table of Contents:\n",
    "1. Introduction\n",
    "2. Dependencies \n",
    "3. Quickstart\n",
    "4. ETL Script\n",
    "5. Data Analysis\n",
    "6. ML Pipeline\n",
    "7.\n",
    "\n"
   ]
  },
  {
   "cell_type": "markdown",
   "metadata": {},
   "source": [
    "# 1. Introduction\n",
    "\n",
    "This project is submitted as a requisite of completing Udacity's Data Scientist Nanodegree. It aims to build an ETL and ML Pipeline for disaster response messages classification. The classifier will later predict the corresponding needs/emergency contained in the message to be further leveraged/forwarded to the appropriate organization(s). \n",
    "\n",
    "Two usecases of the classifier:\n",
    "1. Offline batch classification - given a set of disaster response messages, user can know the type and magnitude of issues happening\n",
    "\n",
    "2. Online text classification - the classifier will also be deployed as a web application to enable user to input a text and get the corresponding labels out immediately. \n",
    "\n",
    "#### An example of this classifier running is hosted at: \n",
    "\n",
    "\n"
   ]
  },
  {
   "cell_type": "markdown",
   "metadata": {},
   "source": [
    "# 2. Dependencies\n",
    "\n",
    "Dependencies are contained in /app/requirements.txt"
   ]
  },
  {
   "cell_type": "markdown",
   "metadata": {},
   "source": [
    "# 3. Quickstart"
   ]
  },
  {
   "cell_type": "code",
   "execution_count": null,
   "metadata": {},
   "outputs": [],
   "source": []
  },
  {
   "cell_type": "code",
   "execution_count": null,
   "metadata": {},
   "outputs": [],
   "source": []
  },
  {
   "cell_type": "code",
   "execution_count": null,
   "metadata": {},
   "outputs": [],
   "source": []
  },
  {
   "cell_type": "code",
   "execution_count": null,
   "metadata": {},
   "outputs": [],
   "source": []
  },
  {
   "cell_type": "code",
   "execution_count": null,
   "metadata": {},
   "outputs": [],
   "source": []
  },
  {
   "cell_type": "code",
   "execution_count": null,
   "metadata": {},
   "outputs": [],
   "source": []
  }
 ],
 "metadata": {
  "kernelspec": {
   "display_name": "Python 3",
   "language": "python",
   "name": "python3"
  },
  "language_info": {
   "codemirror_mode": {
    "name": "ipython",
    "version": 3
   },
   "file_extension": ".py",
   "mimetype": "text/x-python",
   "name": "python",
   "nbconvert_exporter": "python",
   "pygments_lexer": "ipython3",
   "version": "3.7.3"
  }
 },
 "nbformat": 4,
 "nbformat_minor": 2
}
